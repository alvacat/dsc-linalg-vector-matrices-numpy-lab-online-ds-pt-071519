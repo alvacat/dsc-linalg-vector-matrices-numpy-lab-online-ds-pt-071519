{
 "cells": [
  {
   "cell_type": "markdown",
   "metadata": {},
   "source": [
    "# Vectors and Matrices in Numpy - Lab\n",
    "\n",
    "## Introduction\n",
    "\n",
    "In this lab, you'll solve some simple matrix creation and manipulation exercises based on what you've learned so far in this section. The key takeaway here is to be able to understand how to use indexing with matrices and vectors while applying some basic operations.\n",
    "\n",
    "## Objectives\n",
    "\n",
    "In this lab you will: \n",
    "\n",
    "- Find the shape of vectors and matrices \n",
    "- Access and manipulate individual scalar components of a matrix \n",
    "- Create vectors and matrices using Numpy and Python\n",
    "\n",
    "## 1. Define two arrays $A$  with shape $ (4 \\times 2)$ and $B$ with shape $(2 \\times 3)$ \n",
    "So    $A =    \n",
    "  \\left[ {\\begin{array}{cc}\n",
    "   1402 & 191 \\\\\n",
    "   1371 &  821\\\\\n",
    "   949 &  1437 \\\\\n",
    "   147 & 1448 \\\\\n",
    "  \\end{array} }\\right]\n",
    "$\n",
    "and\n",
    "$\n",
    "B =    \n",
    "  \\left[ {\\begin{array}{ccc}\n",
    "   1 & 2 & 3 \\\\\n",
    "   4 & 5 & 6\\\\\n",
    "  \\end{array} }\\right]\n",
    "$"
   ]
  },
  {
   "cell_type": "code",
   "execution_count": 2,
   "metadata": {},
   "outputs": [],
   "source": [
    "import numpy as np\n",
    "A=np.array([[1402,191],[1371,821],[949,1437],[147,1448]])\n",
    "B=np.array([[1,2,3],[4,5,6]])"
   ]
  },
  {
   "cell_type": "markdown",
   "metadata": {},
   "source": [
    "## 2. Print the dimensions of $A$ and $B$ "
   ]
  },
  {
   "cell_type": "code",
   "execution_count": 7,
   "metadata": {},
   "outputs": [
    {
     "name": "stdout",
     "output_type": "stream",
     "text": [
      "(4, 2) (2, 3)\n"
     ]
    }
   ],
   "source": [
    "print(A.shape,B.shape)"
   ]
  },
  {
   "cell_type": "markdown",
   "metadata": {},
   "source": [
    "## 3. Print elements from $A$\n",
    "\n",
    "Print the following elements from $A$: \n",
    "\n",
    "* First row and first column\n",
    "* First row and second column\n",
    "* Third row and second column\n",
    "* Fourth row and first column"
   ]
  },
  {
   "cell_type": "code",
   "execution_count": 13,
   "metadata": {},
   "outputs": [
    {
     "name": "stdout",
     "output_type": "stream",
     "text": [
      "1402\n",
      "191\n",
      "1437\n",
      "147\n"
     ]
    }
   ],
   "source": [
    "print(A[0,0])\n",
    "print(A[0,1])\n",
    "print(A[2,1])\n",
    "print(A[3,0])"
   ]
  },
  {
   "cell_type": "markdown",
   "metadata": {},
   "source": [
    "## 4. Write a routine to populate a matrix with random data\n",
    "* Create an $(3 \\times 3)$ Numpy array with all zeros (use `np.zeros()`)\n",
    "* Access each location $(i,j)$ of this matrix and fill in random values between the range 1 and 10 "
   ]
  },
  {
   "cell_type": "code",
   "execution_count": 17,
   "metadata": {
    "scrolled": true
   },
   "outputs": [
    {
     "name": "stdout",
     "output_type": "stream",
     "text": [
      "[[0. 0. 0.]\n",
      " [0. 0. 0.]\n",
      " [0. 0. 0.]]\n",
      "[[ 3.  3.  5.]\n",
      " [10.  5.  8.]\n",
      " [ 5.  9.  1.]]\n"
     ]
    }
   ],
   "source": [
    "Z=np.zeros((3,3))\n",
    "print(Z)\n",
    "for i in range(3*3):\n",
    "    Z[i//3][i%3]=np.random.randint(1,11)\n",
    "print(Z)"
   ]
  },
  {
   "cell_type": "markdown",
   "metadata": {},
   "source": [
    "## 5. Turn the above routine into a function\n",
    "* Create two $(4 \\times 4)$ zero-valued matrices and fill with random data using the function\n",
    "* Add the matrices together in Numpy \n",
    "* Print the results"
   ]
  },
  {
   "cell_type": "code",
   "execution_count": 25,
   "metadata": {},
   "outputs": [
    {
     "name": "stdout",
     "output_type": "stream",
     "text": [
      "A=[[ 1.  3.  1.  1.]\n",
      " [ 8.  5. 10. 10.]\n",
      " [ 1.  7.  2.  1.]\n",
      " [ 9.  6.  9.  3.]]\n",
      "\n",
      "B=[[ 5. 10.  4.  3.]\n",
      " [ 3.  7.  2.  9.]\n",
      " [ 4.  3.  9.  3.]\n",
      " [10.  6. 10.  7.]]\n",
      "\n",
      "C=[[ 6. 13.  5.  4.]\n",
      " [11. 12. 12. 19.]\n",
      " [ 5. 10. 11.  4.]\n",
      " [19. 12. 19. 10.]]\n"
     ]
    }
   ],
   "source": [
    "def create_matrix(size):\n",
    "    Z=np.zeros(size)\n",
    "    for i in range(size[0]*size[1]):\n",
    "        Z[i//size[0]][i%size[1]]=np.random.randint(1,11)\n",
    "    return Z\n",
    "\n",
    "A=create_matrix((4,4))\n",
    "B=create_matrix((4,4))\n",
    "print(f'A={A}\\n')\n",
    "print(f'B={B}\\n')\n",
    "C=A+B\n",
    "print(f'C={C}')"
   ]
  },
  {
   "cell_type": "markdown",
   "metadata": {},
   "source": [
    "## Summary \n",
    "\n",
    "In this lab, we saw how to create and manipulate vectors and matrices in Numpy. We shall now move forward to learning more complex operations including dot products and matrix inversions.  "
   ]
  }
 ],
 "metadata": {
  "kernelspec": {
   "display_name": "Python 3",
   "language": "python",
   "name": "python3"
  },
  "language_info": {
   "codemirror_mode": {
    "name": "ipython",
    "version": 3
   },
   "file_extension": ".py",
   "mimetype": "text/x-python",
   "name": "python",
   "nbconvert_exporter": "python",
   "pygments_lexer": "ipython3",
   "version": "3.7.3"
  }
 },
 "nbformat": 4,
 "nbformat_minor": 2
}
